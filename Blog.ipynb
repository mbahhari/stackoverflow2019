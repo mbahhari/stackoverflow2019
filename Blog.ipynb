{
 "cells": [
  {
   "cell_type": "code",
   "execution_count": 1,
   "metadata": {},
   "outputs": [],
   "source": [
    "# Import all necessary modules to perform analysy on the data\n",
    "from collections import Counter, defaultdict\n",
    "import pandas as pd\n",
    "import matplotlib.pyplot as plt\n",
    "import numpy as np\n",
    "%matplotlib inline\n"
   ]
  },
  {
   "cell_type": "code",
   "execution_count": 2,
   "metadata": {},
   "outputs": [],
   "source": [
    "# load the data of 2019 survey\n",
    "df19 = pd.read_csv('survey_results_public.csv')\n"
   ]
  },
  {
   "cell_type": "code",
   "execution_count": 3,
   "metadata": {},
   "outputs": [
    {
     "name": "stdout",
     "output_type": "stream",
     "text": [
      "<class 'pandas.core.frame.DataFrame'>\n",
      "RangeIndex: 88883 entries, 0 to 88882\n",
      "Data columns (total 5 columns):\n",
      "CompTotal        55945 non-null float64\n",
      "ConvertedComp    55823 non-null float64\n",
      "WorkWeekHrs      64503 non-null float64\n",
      "CodeRevHrs       49790 non-null float64\n",
      "Age              79210 non-null float64\n",
      "dtypes: float64(5)\n",
      "memory usage: 3.4 MB\n"
     ]
    }
   ],
   "source": [
    "'''check all columns with type float64 df19\n",
    "   this will help to group a desired column with the follwing columns'''\n",
    "\n",
    "df19.loc[:, df19.dtypes == 'float64'].info()\n"
   ]
  },
  {
   "cell_type": "code",
   "execution_count": 4,
   "metadata": {},
   "outputs": [
    {
     "data": {
      "text/plain": [
       "set()"
      ]
     },
     "execution_count": 4,
     "metadata": {},
     "output_type": "execute_result"
    }
   ],
   "source": [
    "# check if any of the columns have a nan value more than 50 in df19 %\n",
    "set(df19.columns[df19.isnull().mean() > 0.5])\n"
   ]
  },
  {
   "cell_type": "code",
   "execution_count": 5,
   "metadata": {},
   "outputs": [],
   "source": [
    "'''the following code is rename C language to CPLanguage,\n",
    "   so it can be categorize and not count any programing language as C language\n",
    "   Also, for Java so it can't be matched with java in javascript'''\n",
    "\n",
    "df19['LanguageWorkedWith'] = df19['LanguageWorkedWith'].str.replace(\n",
    "    'C;', 'CLanguage;')\n",
    "df19['LanguageWorkedWith'] = df19['LanguageWorkedWith'].str.replace(\n",
    "    '+', 'P')\n",
    "df19['LanguageWorkedWith'] = df19['LanguageWorkedWith'].str.replace(\n",
    "    'Java;', 'JLanguage;')\n",
    "\n",
    "df19['LanguageDesireNextYear'] = df19['LanguageDesireNextYear'].str.replace(\n",
    "    'Java;', 'JLanguage;')\n",
    "df19['LanguageDesireNextYear'] = df19['LanguageDesireNextYear'].str.replace(\n",
    "    'C;', 'CLanguage;')\n",
    "df19['LanguageDesireNextYear'] = df19['LanguageDesireNextYear'].str.replace(\n",
    "    '+', 'P')\n",
    "# extract all the languges were chosen by each user and convert them to columns\n",
    "languagesWorkedWith = df19['LanguageWorkedWith'].str.split(';', expand=True)\n",
    "languagesDesired = df19['LanguageDesireNextYear'].str.split(';', expand=True)\n"
   ]
  },
  {
   "cell_type": "markdown",
   "metadata": {},
   "source": [
    "### The following code is to answer the question: what are the top 10 languages used by users who took the survey in 2019"
   ]
  },
  {
   "cell_type": "code",
   "execution_count": 6,
   "metadata": {},
   "outputs": [
    {
     "data": {
      "text/html": [
       "<div>\n",
       "<style scoped>\n",
       "    .dataframe tbody tr th:only-of-type {\n",
       "        vertical-align: middle;\n",
       "    }\n",
       "\n",
       "    .dataframe tbody tr th {\n",
       "        vertical-align: top;\n",
       "    }\n",
       "\n",
       "    .dataframe thead th {\n",
       "        text-align: right;\n",
       "    }\n",
       "</style>\n",
       "<table border=\"1\" class=\"dataframe\">\n",
       "  <thead>\n",
       "    <tr style=\"text-align: right;\">\n",
       "      <th></th>\n",
       "      <th>0</th>\n",
       "      <th>1</th>\n",
       "      <th>2</th>\n",
       "      <th>3</th>\n",
       "      <th>4</th>\n",
       "      <th>5</th>\n",
       "      <th>6</th>\n",
       "      <th>7</th>\n",
       "      <th>8</th>\n",
       "      <th>9</th>\n",
       "      <th>...</th>\n",
       "      <th>18</th>\n",
       "      <th>19</th>\n",
       "      <th>20</th>\n",
       "      <th>21</th>\n",
       "      <th>22</th>\n",
       "      <th>23</th>\n",
       "      <th>24</th>\n",
       "      <th>25</th>\n",
       "      <th>26</th>\n",
       "      <th>27</th>\n",
       "    </tr>\n",
       "  </thead>\n",
       "  <tbody>\n",
       "    <tr>\n",
       "      <th>0</th>\n",
       "      <td>HTML/CSS</td>\n",
       "      <td>Java</td>\n",
       "      <td>JavaScript</td>\n",
       "      <td>Python</td>\n",
       "      <td>None</td>\n",
       "      <td>None</td>\n",
       "      <td>None</td>\n",
       "      <td>None</td>\n",
       "      <td>None</td>\n",
       "      <td>None</td>\n",
       "      <td>...</td>\n",
       "      <td>None</td>\n",
       "      <td>None</td>\n",
       "      <td>None</td>\n",
       "      <td>None</td>\n",
       "      <td>None</td>\n",
       "      <td>None</td>\n",
       "      <td>None</td>\n",
       "      <td>None</td>\n",
       "      <td>None</td>\n",
       "      <td>None</td>\n",
       "    </tr>\n",
       "    <tr>\n",
       "      <th>1</th>\n",
       "      <td>CPP</td>\n",
       "      <td>HTML/CSS</td>\n",
       "      <td>Python</td>\n",
       "      <td>None</td>\n",
       "      <td>None</td>\n",
       "      <td>None</td>\n",
       "      <td>None</td>\n",
       "      <td>None</td>\n",
       "      <td>None</td>\n",
       "      <td>None</td>\n",
       "      <td>...</td>\n",
       "      <td>None</td>\n",
       "      <td>None</td>\n",
       "      <td>None</td>\n",
       "      <td>None</td>\n",
       "      <td>None</td>\n",
       "      <td>None</td>\n",
       "      <td>None</td>\n",
       "      <td>None</td>\n",
       "      <td>None</td>\n",
       "      <td>None</td>\n",
       "    </tr>\n",
       "    <tr>\n",
       "      <th>2</th>\n",
       "      <td>HTML/CSS</td>\n",
       "      <td>None</td>\n",
       "      <td>None</td>\n",
       "      <td>None</td>\n",
       "      <td>None</td>\n",
       "      <td>None</td>\n",
       "      <td>None</td>\n",
       "      <td>None</td>\n",
       "      <td>None</td>\n",
       "      <td>None</td>\n",
       "      <td>...</td>\n",
       "      <td>None</td>\n",
       "      <td>None</td>\n",
       "      <td>None</td>\n",
       "      <td>None</td>\n",
       "      <td>None</td>\n",
       "      <td>None</td>\n",
       "      <td>None</td>\n",
       "      <td>None</td>\n",
       "      <td>None</td>\n",
       "      <td>None</td>\n",
       "    </tr>\n",
       "    <tr>\n",
       "      <th>3</th>\n",
       "      <td>CLanguage</td>\n",
       "      <td>CPP</td>\n",
       "      <td>C#</td>\n",
       "      <td>Python</td>\n",
       "      <td>SQL</td>\n",
       "      <td>None</td>\n",
       "      <td>None</td>\n",
       "      <td>None</td>\n",
       "      <td>None</td>\n",
       "      <td>None</td>\n",
       "      <td>...</td>\n",
       "      <td>None</td>\n",
       "      <td>None</td>\n",
       "      <td>None</td>\n",
       "      <td>None</td>\n",
       "      <td>None</td>\n",
       "      <td>None</td>\n",
       "      <td>None</td>\n",
       "      <td>None</td>\n",
       "      <td>None</td>\n",
       "      <td>None</td>\n",
       "    </tr>\n",
       "    <tr>\n",
       "      <th>4</th>\n",
       "      <td>CPP</td>\n",
       "      <td>HTML/CSS</td>\n",
       "      <td>Java</td>\n",
       "      <td>JavaScript</td>\n",
       "      <td>Python</td>\n",
       "      <td>SQL</td>\n",
       "      <td>VBA</td>\n",
       "      <td>None</td>\n",
       "      <td>None</td>\n",
       "      <td>None</td>\n",
       "      <td>...</td>\n",
       "      <td>None</td>\n",
       "      <td>None</td>\n",
       "      <td>None</td>\n",
       "      <td>None</td>\n",
       "      <td>None</td>\n",
       "      <td>None</td>\n",
       "      <td>None</td>\n",
       "      <td>None</td>\n",
       "      <td>None</td>\n",
       "      <td>None</td>\n",
       "    </tr>\n",
       "  </tbody>\n",
       "</table>\n",
       "<p>5 rows × 28 columns</p>\n",
       "</div>"
      ],
      "text/plain": [
       "          0         1           2           3       4     5     6     7   \\\n",
       "0   HTML/CSS      Java  JavaScript      Python    None  None  None  None   \n",
       "1        CPP  HTML/CSS      Python        None    None  None  None  None   \n",
       "2   HTML/CSS      None        None        None    None  None  None  None   \n",
       "3  CLanguage       CPP          C#      Python     SQL  None  None  None   \n",
       "4        CPP  HTML/CSS        Java  JavaScript  Python   SQL   VBA  None   \n",
       "\n",
       "     8     9   ...    18    19    20    21    22    23    24    25    26    27  \n",
       "0  None  None  ...  None  None  None  None  None  None  None  None  None  None  \n",
       "1  None  None  ...  None  None  None  None  None  None  None  None  None  None  \n",
       "2  None  None  ...  None  None  None  None  None  None  None  None  None  None  \n",
       "3  None  None  ...  None  None  None  None  None  None  None  None  None  None  \n",
       "4  None  None  ...  None  None  None  None  None  None  None  None  None  None  \n",
       "\n",
       "[5 rows x 28 columns]"
      ]
     },
     "execution_count": 6,
     "metadata": {},
     "output_type": "execute_result"
    }
   ],
   "source": [
    "# view to the extracted langauges\n",
    "languagesWorkedWith.head()\n"
   ]
  },
  {
   "cell_type": "code",
   "execution_count": 7,
   "metadata": {},
   "outputs": [],
   "source": [
    "def languages(df):\n",
    "    '''create a function to get all the languages that usres used or desired,\n",
    "    to work with and remove all na values '''\n",
    "    lang = []\n",
    "    for c in range(df.shape[0]):\n",
    "        for r in range(df.shape[1]):\n",
    "            lang.append(df.iloc[c, r])\n",
    "    lang = Counter(lang).most_common()\n",
    "    l_df = pd.DataFrame(lang, columns=['Language', 'Users'])\n",
    "    l_df.dropna(axis='rows', inplace=True)\n",
    "    l_df = l_df[l_df.Language != 'C']\n",
    "    l_df = l_df[l_df.Language != 'Java']\n",
    "    return l_df\n",
    "    "
   ]
  },
  {
   "cell_type": "code",
   "execution_count": 8,
   "metadata": {},
   "outputs": [],
   "source": [
    "# Return a Dataframe contains each lanhuage and how many users use the language\n",
    "current_lang = languages(languagesWorkedWith)\n"
   ]
  },
  {
   "cell_type": "code",
   "execution_count": 12,
   "metadata": {},
   "outputs": [
    {
     "data": {
      "text/html": [
       "<div>\n",
       "<style scoped>\n",
       "    .dataframe tbody tr th:only-of-type {\n",
       "        vertical-align: middle;\n",
       "    }\n",
       "\n",
       "    .dataframe tbody tr th {\n",
       "        vertical-align: top;\n",
       "    }\n",
       "\n",
       "    .dataframe thead th {\n",
       "        text-align: right;\n",
       "    }\n",
       "</style>\n",
       "<table border=\"1\" class=\"dataframe\">\n",
       "  <thead>\n",
       "    <tr style=\"text-align: right;\">\n",
       "      <th></th>\n",
       "      <th>Language</th>\n",
       "      <th>Users</th>\n",
       "    </tr>\n",
       "  </thead>\n",
       "  <tbody>\n",
       "    <tr>\n",
       "      <th>1</th>\n",
       "      <td>JavaScript</td>\n",
       "      <td>59219</td>\n",
       "    </tr>\n",
       "    <tr>\n",
       "      <th>2</th>\n",
       "      <td>HTML/CSS</td>\n",
       "      <td>55466</td>\n",
       "    </tr>\n",
       "    <tr>\n",
       "      <th>3</th>\n",
       "      <td>SQL</td>\n",
       "      <td>47544</td>\n",
       "    </tr>\n",
       "    <tr>\n",
       "      <th>5</th>\n",
       "      <td>Python</td>\n",
       "      <td>36443</td>\n",
       "    </tr>\n",
       "    <tr>\n",
       "      <th>7</th>\n",
       "      <td>Bash/Shell/PowerShell</td>\n",
       "      <td>31991</td>\n",
       "    </tr>\n",
       "  </tbody>\n",
       "</table>\n",
       "</div>"
      ],
      "text/plain": [
       "                Language  Users\n",
       "1             JavaScript  59219\n",
       "2               HTML/CSS  55466\n",
       "3                    SQL  47544\n",
       "5                 Python  36443\n",
       "7  Bash/Shell/PowerShell  31991"
      ]
     },
     "execution_count": 12,
     "metadata": {},
     "output_type": "execute_result"
    }
   ],
   "source": [
    "# a look at the languages with how many useres had worked with\n",
    "current_lang.head()\n"
   ]
  },
  {
   "cell_type": "code",
   "execution_count": 10,
   "metadata": {},
   "outputs": [],
   "source": [
    "''' Return a Dataframe contains each lanhuage,\n",
    "    and how many users desired to use the language'''\n",
    "desired_lang = languages(languagesDesired)\n"
   ]
  },
  {
   "cell_type": "code",
   "execution_count": 13,
   "metadata": {},
   "outputs": [
    {
     "data": {
      "text/html": [
       "<div>\n",
       "<style scoped>\n",
       "    .dataframe tbody tr th:only-of-type {\n",
       "        vertical-align: middle;\n",
       "    }\n",
       "\n",
       "    .dataframe tbody tr th {\n",
       "        vertical-align: top;\n",
       "    }\n",
       "\n",
       "    .dataframe thead th {\n",
       "        text-align: right;\n",
       "    }\n",
       "</style>\n",
       "<table border=\"1\" class=\"dataframe\">\n",
       "  <thead>\n",
       "    <tr style=\"text-align: right;\">\n",
       "      <th></th>\n",
       "      <th>Language</th>\n",
       "      <th>Users</th>\n",
       "    </tr>\n",
       "  </thead>\n",
       "  <tbody>\n",
       "    <tr>\n",
       "      <th>2</th>\n",
       "      <td>JavaScript</td>\n",
       "      <td>44739</td>\n",
       "    </tr>\n",
       "    <tr>\n",
       "      <th>3</th>\n",
       "      <td>Python</td>\n",
       "      <td>40006</td>\n",
       "    </tr>\n",
       "    <tr>\n",
       "      <th>4</th>\n",
       "      <td>HTML/CSS</td>\n",
       "      <td>36645</td>\n",
       "    </tr>\n",
       "    <tr>\n",
       "      <th>5</th>\n",
       "      <td>SQL</td>\n",
       "      <td>33566</td>\n",
       "    </tr>\n",
       "    <tr>\n",
       "      <th>6</th>\n",
       "      <td>TypeScript</td>\n",
       "      <td>23720</td>\n",
       "    </tr>\n",
       "  </tbody>\n",
       "</table>\n",
       "</div>"
      ],
      "text/plain": [
       "     Language  Users\n",
       "2  JavaScript  44739\n",
       "3      Python  40006\n",
       "4    HTML/CSS  36645\n",
       "5         SQL  33566\n",
       "6  TypeScript  23720"
      ]
     },
     "execution_count": 13,
     "metadata": {},
     "output_type": "execute_result"
    }
   ],
   "source": [
    "# a look at the languages with how many useres desried to work with\n",
    "desired_lang.head()\n"
   ]
  },
  {
   "cell_type": "code",
   "execution_count": 14,
   "metadata": {},
   "outputs": [],
   "source": [
    "def plot_lang(df, title):\n",
    "    '''Create a fucntion to plot the languages,\n",
    "   and apply them on worked with or desired to work with'''\n",
    "    colors = ('coral', 'violet', 'lightsalmon', 'teal')\n",
    "    try:\n",
    "        x = list(df.iloc[0:, 0])\n",
    "        plt.figure(figsize=(10, 8))\n",
    "        plt.bar(x, df.Users, label=title, color=colors)\n",
    "        plt.ylabel('Users')\n",
    "        plt.xlabel('Languages')\n",
    "        plt.title(title)\n",
    "        plt.xticks(rotation=90)\n",
    "        plt.legend()\n",
    "        plt.gca()\n",
    "        plt.savefig(title+'.jpg')\n",
    "        plt.show()\n",
    "    except Exception as e:\n",
    "        print(f'Sorry, an error occured : {e}')\n"
   ]
  },
  {
   "cell_type": "code",
   "execution_count": 15,
   "metadata": {},
   "outputs": [
    {
     "data": {
      "image/png": "[encoded data removed]",
      "text/plain": [
       "<Figure size 720x576 with 1 Axes>"
      ]
     },
     "metadata": {
      "needs_background": "light"
     },
     "output_type": "display_data"
    },
    {
     "data": {
      "image/png": "[encoded data removed]",
      "text/plain": [
       "<Figure size 720x576 with 1 Axes>"
      ]
     },
     "metadata": {
      "needs_background": "light"
     },
     "output_type": "display_data"
    }
   ],
   "source": [
    "plot_lang(current_lang, 'Most Languages Worked with')\n",
    "plot_lang(desired_lang, 'Most Languages Desired to work  with')\n"
   ]
  },
  {
   "cell_type": "code",
   "execution_count": 16,
   "metadata": {},
   "outputs": [],
   "source": [
    "# merge above dfs to one df\n",
    "cur_des = pd.merge(left=current_lang, right=desired_lang,\n",
    "                   left_on='Language', right_on='Language')\n"
   ]
  },
  {
   "cell_type": "code",
   "execution_count": 17,
   "metadata": {},
   "outputs": [
    {
     "data": {
      "image/png": "[encoded data removed]",
      "text/plain": [
       "<Figure size 720x576 with 1 Axes>"
      ]
     },
     "metadata": {
      "needs_background": "light"
     },
     "output_type": "display_data"
    }
   ],
   "source": [
    "'''another plot by combinign both plots in one, so it will help us to see\n",
    "    how many users willing to work withother language   '''\n",
    "width = 0.25\n",
    "x = cur_des.iloc[0:, 0]\n",
    "m = np.arange(10)\n",
    "plt.figure(figsize=(10, 8))\n",
    "plt.bar(x[0:10], cur_des[0:10].Users_x, width=width,\n",
    "        label='Most worked Languages')\n",
    "plt.bar(m+width, cur_des[0:10].Users_y, width=width,\n",
    "        label='Desired worked Languages')\n",
    "plt.ylabel('Users')\n",
    "plt.xlabel('Languages')\n",
    "plt.xticks(rotation=90)\n",
    "plt.legend()\n",
    "plt.savefig('WD.JPG')\n",
    "plt.show()\n"
   ]
  },
  {
   "cell_type": "markdown",
   "metadata": {},
   "source": [
    "## 2* This section will answer what languges are both\n",
    "worked with and also the user desired to continue work with. \n"
   ]
  },
  {
   "cell_type": "code",
   "execution_count": 19,
   "metadata": {},
   "outputs": [],
   "source": [
    "# crate newdf contains only LanguageWorkedWith and LanguageDesireNextYear\n",
    "newdf = df19[['LanguageWorkedWith', 'LanguageDesireNextYear']]\n"
   ]
  },
  {
   "cell_type": "code",
   "execution_count": 20,
   "metadata": {},
   "outputs": [
    {
     "name": "stderr",
     "output_type": "stream",
     "text": [
      "/Users/bahhari/anaconda3/lib/python3.7/site-packages/ipykernel_launcher.py:6: UserWarning: This pattern has match groups. To actually get the groups, use str.extract.\n",
      "  \n"
     ]
    }
   ],
   "source": [
    "'''Count all languages occured in LanguageWorkedWith columns,\n",
    "   and LanguageDesireNextYear by row '''\n",
    "match = dict()\n",
    "for lang in current_lang.Language:\n",
    "    match[lang] = (newdf.LanguageWorkedWith.str.contains(lang) &\n",
    "                   newdf.LanguageDesireNextYear.str.contains(lang)).sum()\n"
   ]
  },
  {
   "cell_type": "code",
   "execution_count": 21,
   "metadata": {},
   "outputs": [
    {
     "data": {
      "text/plain": [
       "{'JavaScript': 39555,\n",
       " 'HTML/CSS': 34486,\n",
       " 'SQL': 30469,\n",
       " 'Python': 26644,\n",
       " 'Bash/Shell/PowerShell': 19029,\n",
       " 'C#': 18146,\n",
       " 'PHP': 10547,\n",
       " 'CPP': 10675,\n",
       " 'TypeScript': 13539,\n",
       " 'CLanguage': 8752,\n",
       " 'Other(s):': 0,\n",
       " 'Ruby': 3688,\n",
       " 'Go': 4893,\n",
       " 'Assembly': 3072,\n",
       " 'Swift': 3972,\n",
       " 'Kotlin': 4078,\n",
       " 'R': 9120,\n",
       " 'VBA': 1184,\n",
       " 'Objective-CLanguage': 1198,\n",
       " 'Scala': 1930,\n",
       " 'Rust': 2332,\n",
       " 'Dart': 1115,\n",
       " 'Elixir': 859,\n",
       " 'Clojure': 856,\n",
       " 'WebAssembly': 705,\n",
       " 'F#': 600,\n",
       " 'Erlang': 368,\n",
       " 'Objective-C': 1310}"
      ]
     },
     "execution_count": 21,
     "metadata": {},
     "output_type": "execute_result"
    }
   ],
   "source": [
    "match"
   ]
  },
  {
   "cell_type": "code",
   "execution_count": 102,
   "metadata": {},
   "outputs": [],
   "source": [
    "'''creat dataframe containing Lnguage and Users columns,\n",
    "   Users column holds the number from match dictionary above'''\n",
    "data = pd.DataFrame(list(match.items()),\n",
    "                    columns=['Language', 'Users']\n",
    "                    ).sort_values(['Users'], ascending=False)\n"
   ]
  },
  {
   "cell_type": "code",
   "execution_count": 103,
   "metadata": {},
   "outputs": [
    {
     "data": {
      "text/html": [
       "<div>\n",
       "<style scoped>\n",
       "    .dataframe tbody tr th:only-of-type {\n",
       "        vertical-align: middle;\n",
       "    }\n",
       "\n",
       "    .dataframe tbody tr th {\n",
       "        vertical-align: top;\n",
       "    }\n",
       "\n",
       "    .dataframe thead th {\n",
       "        text-align: right;\n",
       "    }\n",
       "</style>\n",
       "<table border=\"1\" class=\"dataframe\">\n",
       "  <thead>\n",
       "    <tr style=\"text-align: right;\">\n",
       "      <th></th>\n",
       "      <th>Language</th>\n",
       "      <th>Users</th>\n",
       "    </tr>\n",
       "  </thead>\n",
       "  <tbody>\n",
       "    <tr>\n",
       "      <th>0</th>\n",
       "      <td>JavaScript</td>\n",
       "      <td>39555</td>\n",
       "    </tr>\n",
       "    <tr>\n",
       "      <th>1</th>\n",
       "      <td>HTML/CSS</td>\n",
       "      <td>34486</td>\n",
       "    </tr>\n",
       "    <tr>\n",
       "      <th>2</th>\n",
       "      <td>SQL</td>\n",
       "      <td>30469</td>\n",
       "    </tr>\n",
       "    <tr>\n",
       "      <th>3</th>\n",
       "      <td>Python</td>\n",
       "      <td>26644</td>\n",
       "    </tr>\n",
       "    <tr>\n",
       "      <th>4</th>\n",
       "      <td>Bash/Shell/PowerShell</td>\n",
       "      <td>19029</td>\n",
       "    </tr>\n",
       "    <tr>\n",
       "      <th>5</th>\n",
       "      <td>C#</td>\n",
       "      <td>18146</td>\n",
       "    </tr>\n",
       "    <tr>\n",
       "      <th>8</th>\n",
       "      <td>TypeScript</td>\n",
       "      <td>13539</td>\n",
       "    </tr>\n",
       "    <tr>\n",
       "      <th>7</th>\n",
       "      <td>CPP</td>\n",
       "      <td>10675</td>\n",
       "    </tr>\n",
       "    <tr>\n",
       "      <th>6</th>\n",
       "      <td>PHP</td>\n",
       "      <td>10547</td>\n",
       "    </tr>\n",
       "    <tr>\n",
       "      <th>16</th>\n",
       "      <td>R</td>\n",
       "      <td>9120</td>\n",
       "    </tr>\n",
       "    <tr>\n",
       "      <th>9</th>\n",
       "      <td>CLanguage</td>\n",
       "      <td>8752</td>\n",
       "    </tr>\n",
       "    <tr>\n",
       "      <th>12</th>\n",
       "      <td>Go</td>\n",
       "      <td>4893</td>\n",
       "    </tr>\n",
       "    <tr>\n",
       "      <th>15</th>\n",
       "      <td>Kotlin</td>\n",
       "      <td>4078</td>\n",
       "    </tr>\n",
       "    <tr>\n",
       "      <th>14</th>\n",
       "      <td>Swift</td>\n",
       "      <td>3972</td>\n",
       "    </tr>\n",
       "    <tr>\n",
       "      <th>11</th>\n",
       "      <td>Ruby</td>\n",
       "      <td>3688</td>\n",
       "    </tr>\n",
       "    <tr>\n",
       "      <th>13</th>\n",
       "      <td>Assembly</td>\n",
       "      <td>3072</td>\n",
       "    </tr>\n",
       "    <tr>\n",
       "      <th>20</th>\n",
       "      <td>Rust</td>\n",
       "      <td>2332</td>\n",
       "    </tr>\n",
       "    <tr>\n",
       "      <th>19</th>\n",
       "      <td>Scala</td>\n",
       "      <td>1930</td>\n",
       "    </tr>\n",
       "    <tr>\n",
       "      <th>27</th>\n",
       "      <td>Objective-C</td>\n",
       "      <td>1310</td>\n",
       "    </tr>\n",
       "    <tr>\n",
       "      <th>18</th>\n",
       "      <td>Objective-CLanguage</td>\n",
       "      <td>1198</td>\n",
       "    </tr>\n",
       "    <tr>\n",
       "      <th>17</th>\n",
       "      <td>VBA</td>\n",
       "      <td>1184</td>\n",
       "    </tr>\n",
       "    <tr>\n",
       "      <th>21</th>\n",
       "      <td>Dart</td>\n",
       "      <td>1115</td>\n",
       "    </tr>\n",
       "    <tr>\n",
       "      <th>22</th>\n",
       "      <td>Elixir</td>\n",
       "      <td>859</td>\n",
       "    </tr>\n",
       "    <tr>\n",
       "      <th>23</th>\n",
       "      <td>Clojure</td>\n",
       "      <td>856</td>\n",
       "    </tr>\n",
       "    <tr>\n",
       "      <th>24</th>\n",
       "      <td>WebAssembly</td>\n",
       "      <td>705</td>\n",
       "    </tr>\n",
       "    <tr>\n",
       "      <th>25</th>\n",
       "      <td>F#</td>\n",
       "      <td>600</td>\n",
       "    </tr>\n",
       "    <tr>\n",
       "      <th>26</th>\n",
       "      <td>Erlang</td>\n",
       "      <td>368</td>\n",
       "    </tr>\n",
       "    <tr>\n",
       "      <th>10</th>\n",
       "      <td>Other(s):</td>\n",
       "      <td>0</td>\n",
       "    </tr>\n",
       "  </tbody>\n",
       "</table>\n",
       "</div>"
      ],
      "text/plain": [
       "                 Language  Users\n",
       "0              JavaScript  39555\n",
       "1                HTML/CSS  34486\n",
       "2                     SQL  30469\n",
       "3                  Python  26644\n",
       "4   Bash/Shell/PowerShell  19029\n",
       "5                      C#  18146\n",
       "8              TypeScript  13539\n",
       "7                     CPP  10675\n",
       "6                     PHP  10547\n",
       "16                      R   9120\n",
       "9               CLanguage   8752\n",
       "12                     Go   4893\n",
       "15                 Kotlin   4078\n",
       "14                  Swift   3972\n",
       "11                   Ruby   3688\n",
       "13               Assembly   3072\n",
       "20                   Rust   2332\n",
       "19                  Scala   1930\n",
       "27            Objective-C   1310\n",
       "18    Objective-CLanguage   1198\n",
       "17                    VBA   1184\n",
       "21                   Dart   1115\n",
       "22                 Elixir    859\n",
       "23                Clojure    856\n",
       "24            WebAssembly    705\n",
       "25                     F#    600\n",
       "26                 Erlang    368\n",
       "10              Other(s):      0"
      ]
     },
     "execution_count": 103,
     "metadata": {},
     "output_type": "execute_result"
    }
   ],
   "source": [
    "data"
   ]
  },
  {
   "cell_type": "code",
   "execution_count": 104,
   "metadata": {},
   "outputs": [
    {
     "data": {
      "image/png": "[encoded data removed]",
      "text/plain": [
       "<Figure size 720x576 with 1 Axes>"
      ]
     },
     "metadata": {
      "needs_background": "light"
     },
     "output_type": "display_data"
    }
   ],
   "source": [
    "x = list(data.iloc[1:, 0])\n",
    "plt.figure(figsize=(10, 8))\n",
    "colors = ('coral', 'violet', 'lightsalmon', 'teal')\n",
    "plt.bar(data.Language, data.Users, label='Language', color=colors)\n",
    "plt.ylabel('Users')\n",
    "plt.xlabel('Languages')\n",
    "plt.title('Languages worked and desired to work with next year ')\n",
    "plt.xticks(rotation=90)\n",
    "plt.legend()\n",
    "plt.savefig('WDYear.jpg')\n",
    "plt.show()\n"
   ]
  },
  {
   "cell_type": "markdown",
   "metadata": {},
   "source": [
    "## 3) How many users have participated in this survey, the percentage of each, most paid and job satisfaction in each country "
   ]
  },
  {
   "cell_type": "code",
   "execution_count": 107,
   "metadata": {},
   "outputs": [],
   "source": [
    "'''\n",
    "Creat a data set that contain all user participated from the Arab Countries\n",
    "and perform some analysis of the most language they use,\n",
    "and the most paid Counrty and job satisfaction\n",
    "'''\n",
    "Arabic = df19[df19['Country'].isin(\n",
    "                                   ['Saudi Arabia',\n",
    "                                    'Egypt',\n",
    "                                    'Bahrain',\n",
    "                                    'Jordan',\n",
    "                                    'Qatar',\n",
    "                                    'Syrian Arab Republic',\n",
    "                                    'Yemen',\n",
    "                                    'United Arab Emirates',\n",
    "                                    'Kuwait',\n",
    "                                    'Tunisia',\n",
    "                                    'Morocco',\n",
    "                                    'Algeria',\n",
    "                                    'Libyan Arab Jamahiriya',\n",
    "                                    'Oman',\n",
    "                                    'Lebanon',\n",
    "                                    'Iraq']\n",
    "                                     )]\n"
   ]
  },
  {
   "cell_type": "code",
   "execution_count": 108,
   "metadata": {},
   "outputs": [
    {
     "name": "stdout",
     "output_type": "stream",
     "text": [
      "Participants from Arabic countries(%): 1.5%\n",
      "Participants from Arabic countries:1342 out of 88883\n"
     ]
    }
   ],
   "source": [
    "''' check the number and percentage of participants,\n",
    "    from Arabic Countries in thr survey '''\n",
    "print('Participants from Arabic countries:')\n",
    "print(f'{round(Arabic.shape[0]/df19.shape[0]*100,1)}%')\n",
    "print('Participants from Arabic countries:')\n",
    "print(f'{Arabic.shape[0]} out of {df19.shape[0]}')\n"
   ]
  },
  {
   "cell_type": "code",
   "execution_count": 109,
   "metadata": {},
   "outputs": [
    {
     "data": {
      "text/html": [
       "<div>\n",
       "<style scoped>\n",
       "    .dataframe tbody tr th:only-of-type {\n",
       "        vertical-align: middle;\n",
       "    }\n",
       "\n",
       "    .dataframe tbody tr th {\n",
       "        vertical-align: top;\n",
       "    }\n",
       "\n",
       "    .dataframe thead th {\n",
       "        text-align: right;\n",
       "    }\n",
       "</style>\n",
       "<table border=\"1\" class=\"dataframe\">\n",
       "  <thead>\n",
       "    <tr style=\"text-align: right;\">\n",
       "      <th></th>\n",
       "      <th>Country</th>\n",
       "      <th>Users</th>\n",
       "    </tr>\n",
       "  </thead>\n",
       "  <tbody>\n",
       "    <tr>\n",
       "      <th>0</th>\n",
       "      <td>Egypt</td>\n",
       "      <td>323</td>\n",
       "    </tr>\n",
       "    <tr>\n",
       "      <th>1</th>\n",
       "      <td>United Arab Emirates</td>\n",
       "      <td>158</td>\n",
       "    </tr>\n",
       "    <tr>\n",
       "      <th>2</th>\n",
       "      <td>Morocco</td>\n",
       "      <td>155</td>\n",
       "    </tr>\n",
       "    <tr>\n",
       "      <th>3</th>\n",
       "      <td>Algeria</td>\n",
       "      <td>134</td>\n",
       "    </tr>\n",
       "    <tr>\n",
       "      <th>4</th>\n",
       "      <td>Tunisia</td>\n",
       "      <td>130</td>\n",
       "    </tr>\n",
       "  </tbody>\n",
       "</table>\n",
       "</div>"
      ],
      "text/plain": [
       "                Country  Users\n",
       "0                 Egypt    323\n",
       "1  United Arab Emirates    158\n",
       "2               Morocco    155\n",
       "3               Algeria    134\n",
       "4               Tunisia    130"
      ]
     },
     "execution_count": 109,
     "metadata": {},
     "output_type": "execute_result"
    }
   ],
   "source": [
    "# How many users by thy country\n",
    "\n",
    "userByCountry = Counter(Arabic.Country).most_common()\n",
    "ar = pd.DataFrame(userByCountry, columns=['Country', 'Users'])\n",
    "ar.head()\n"
   ]
  },
  {
   "cell_type": "code",
   "execution_count": 110,
   "metadata": {},
   "outputs": [],
   "source": [
    "ar['Percentage'] = ar.Users/ar.shape[0]\n"
   ]
  },
  {
   "cell_type": "code",
   "execution_count": 111,
   "metadata": {},
   "outputs": [
    {
     "data": {
      "image/png": "[encoded data removed]",
      "text/plain": [
       "<Figure size 720x576 with 1 Axes>"
      ]
     },
     "metadata": {
      "needs_background": "light"
     },
     "output_type": "display_data"
    }
   ],
   "source": [
    "x=list(ar.iloc[1:,0])\n",
    "plt.figure(figsize=(10,8));\n",
    "plt.bar(ar.Country,ar.Users ,label='Users');\n",
    "plt.ylabel('Users');\n",
    "plt.xlabel('Country');\n",
    "plt.title('Users By Country');\n",
    "plt.xticks(rotation=90)\n",
    "plt.legend();\n",
    "plt.savefig('Users By Country.jpg')\n",
    "plt.show();\n"
   ]
  },
  {
   "cell_type": "code",
   "execution_count": 113,
   "metadata": {},
   "outputs": [],
   "source": [
    "def income(df, salaryconverted):\n",
    "    # Get the average income for developers by country\n",
    "    # Get the mean of thw Age for each employment status\n",
    "    g = df.groupby(['Country']).mean()[salaryconverted].\n",
    "    sort_values(ascending=False)\n",
    "    # create a data set containing the mean of the income for each country\n",
    "    ArabicCountry = pd.Series(c for c, _ in g.items())\n",
    "    income = pd.Series(i for _, i in g.items())\n",
    "    new_df = pd.DataFrame({'Country': ArabicCountry, 'Money': income})\n",
    "    return new_df\n"
   ]
  },
  {
   "cell_type": "code",
   "execution_count": 114,
   "metadata": {},
   "outputs": [],
   "source": [
    "# apply the function to y19 arabic developers\n",
    "y19 = income(Arabic, 'ConvertedComp')\n"
   ]
  },
  {
   "cell_type": "code",
   "execution_count": 115,
   "metadata": {},
   "outputs": [
    {
     "data": {
      "text/html": [
       "<div>\n",
       "<style scoped>\n",
       "    .dataframe tbody tr th:only-of-type {\n",
       "        vertical-align: middle;\n",
       "    }\n",
       "\n",
       "    .dataframe tbody tr th {\n",
       "        vertical-align: top;\n",
       "    }\n",
       "\n",
       "    .dataframe thead th {\n",
       "        text-align: right;\n",
       "    }\n",
       "</style>\n",
       "<table border=\"1\" class=\"dataframe\">\n",
       "  <thead>\n",
       "    <tr style=\"text-align: right;\">\n",
       "      <th></th>\n",
       "      <th>Country</th>\n",
       "      <th>Money</th>\n",
       "    </tr>\n",
       "  </thead>\n",
       "  <tbody>\n",
       "    <tr>\n",
       "      <th>0</th>\n",
       "      <td>Qatar</td>\n",
       "      <td>224692.67</td>\n",
       "    </tr>\n",
       "    <tr>\n",
       "      <th>1</th>\n",
       "      <td>Kuwait</td>\n",
       "      <td>153294.00</td>\n",
       "    </tr>\n",
       "    <tr>\n",
       "      <th>2</th>\n",
       "      <td>Libyan Arab Jamahiriya</td>\n",
       "      <td>86265.00</td>\n",
       "    </tr>\n",
       "    <tr>\n",
       "      <th>3</th>\n",
       "      <td>Jordan</td>\n",
       "      <td>59234.71</td>\n",
       "    </tr>\n",
       "    <tr>\n",
       "      <th>4</th>\n",
       "      <td>United Arab Emirates</td>\n",
       "      <td>53545.66</td>\n",
       "    </tr>\n",
       "  </tbody>\n",
       "</table>\n",
       "</div>"
      ],
      "text/plain": [
       "                  Country      Money\n",
       "0                   Qatar  224692.67\n",
       "1                  Kuwait  153294.00\n",
       "2  Libyan Arab Jamahiriya   86265.00\n",
       "3                  Jordan   59234.71\n",
       "4    United Arab Emirates   53545.66"
      ]
     },
     "execution_count": 115,
     "metadata": {},
     "output_type": "execute_result"
    }
   ],
   "source": [
    "round(y19.head(),2)"
   ]
  },
  {
   "cell_type": "code",
   "execution_count": 116,
   "metadata": {},
   "outputs": [],
   "source": [
    "def plt_arabic_income(df, year):\n",
    "    plt.figure(figsize=(10, 6))\n",
    "    plt.xticks(rotation=90)\n",
    "    plt.xlabel('Country')\n",
    "    plt.ylabel('Users')\n",
    "    plt.title('Annual Income \\'Arabs Countries\\' '+year)\n",
    "    plt.bar(df.Country, df.Money)\n",
    "    plt.savefig('Income'+year+'.jpg')\n"
   ]
  },
  {
   "cell_type": "code",
   "execution_count": 117,
   "metadata": {},
   "outputs": [
    {
     "data": {
      "image/png": "[encoded data removed]",
      "text/plain": [
       "<Figure size 720x432 with 1 Axes>"
      ]
     },
     "metadata": {
      "needs_background": "light"
     },
     "output_type": "display_data"
    }
   ],
   "source": [
    "plt_arabic_income(y19,'2019')"
   ]
  },
  {
   "cell_type": "code",
   "execution_count": null,
   "metadata": {},
   "outputs": [],
   "source": []
  }
 ],
 "metadata": {
  "kernelspec": {
   "display_name": "Python 3",
   "language": "python",
   "name": "python3"
  },
  "language_info": {
   "codemirror_mode": {
    "name": "ipython",
    "version": 3
   },
   "file_extension": ".py",
   "mimetype": "text/x-python",
   "name": "python",
   "nbconvert_exporter": "python",
   "pygments_lexer": "ipython3",
   "version": "3.7.3"
  }
 },
 "nbformat": 4,
 "nbformat_minor": 2
}
